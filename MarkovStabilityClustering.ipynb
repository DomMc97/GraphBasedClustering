{
 "cells": [
  {
   "cell_type": "code",
   "execution_count": 1,
   "metadata": {
    "collapsed": true
   },
   "outputs": [],
   "source": [
    "addpath(genpath('matlab'))"
   ]
  },
  {
   "cell_type": "markdown",
   "metadata": {},
   "source": [
    "# Load the data\n",
    "Load one of the following datasets or own data."
   ]
  },
  {
   "cell_type": "markdown",
   "metadata": {},
   "source": [
    "### Iris"
   ]
  },
  {
   "cell_type": "code",
   "execution_count": 2,
   "metadata": {
    "collapsed": true
   },
   "outputs": [],
   "source": [
    "x = readtable('Data/bezdekIris.data.txt');\n",
    "data = x{:,1:4};\n",
    "c_g = ones(150,1);c_g(51:100) = 2;c_g(101:150) = 3;\n",
    "n_g = 3;"
   ]
  },
  {
   "cell_type": "markdown",
   "metadata": {},
   "source": [
    "### Glass"
   ]
  },
  {
   "cell_type": "code",
   "execution_count": null,
   "metadata": {
    "collapsed": true
   },
   "outputs": [],
   "source": [
    "x = readtable('Data/glass.data.txt');\n",
    "data = x{:,2:10};\n",
    "c_g = x{:,11};\n",
    "c_g(c_g==7) = 4;\n",
    "data = zscore(data);\n",
    "n_g = 6;"
   ]
  },
  {
   "cell_type": "markdown",
   "metadata": {},
   "source": [
    "### Wine"
   ]
  },
  {
   "cell_type": "code",
   "execution_count": null,
   "metadata": {
    "collapsed": true
   },
   "outputs": [],
   "source": [
    "x = readtable('Data/wine.data.txt');\n",
    "data = x{:,2:14};\n",
    "c_g = x{:,1};\n",
    "data = zscore(data);\n",
    "n_g = 3;"
   ]
  },
  {
   "cell_type": "markdown",
   "metadata": {},
   "source": [
    "### WDBC"
   ]
  },
  {
   "cell_type": "code",
   "execution_count": null,
   "metadata": {
    "collapsed": true
   },
   "outputs": [],
   "source": [
    "x = readtable('Data/wdbc.data.txt');\n",
    "data = x{:,3:32};\n",
    "[~,~,c_g] = unique(x{:,2});\n",
    "data = zscore(data);\n",
    "n_g = 2;"
   ]
  },
  {
   "cell_type": "markdown",
   "metadata": {},
   "source": [
    "### Control chart"
   ]
  },
  {
   "cell_type": "code",
   "execution_count": null,
   "metadata": {
    "collapsed": true
   },
   "outputs": [],
   "source": [
    "x = readtable('Data/synthetic_control.data.txt');\n",
    "data = x{:,:};\n",
    "c_g = repmat(1:6,100,1); c_g = c_g(:);\n",
    "% data = zscore(data);\n",
    "n_g = 6;"
   ]
  },
  {
   "cell_type": "markdown",
   "metadata": {},
   "source": [
    "### Parkinsons"
   ]
  },
  {
   "cell_type": "code",
   "execution_count": null,
   "metadata": {
    "collapsed": true
   },
   "outputs": [],
   "source": [
    "x = readtable('Data/parkinsons.data.txt');\n",
    "data = x{:,[2:17,19:24]};\n",
    "c_g = x{:,18} + 1;\n",
    "data = zscore(data);\n",
    "n_g = 2;"
   ]
  },
  {
   "cell_type": "markdown",
   "metadata": {},
   "source": [
    "### Vertebral"
   ]
  },
  {
   "cell_type": "code",
   "execution_count": null,
   "metadata": {
    "collapsed": true
   },
   "outputs": [],
   "source": [
    "x = readtable('Data/column_3C.dat');\n",
    "data = x{:,1:6};\n",
    "[~,~,c_g] = unique(x{:,7});\n",
    "% data = zscore(data);\n",
    "n_g = 3;"
   ]
  },
  {
   "cell_type": "markdown",
   "metadata": {},
   "source": [
    "### Breast tissue"
   ]
  },
  {
   "cell_type": "code",
   "execution_count": null,
   "metadata": {
    "collapsed": true
   },
   "outputs": [],
   "source": [
    "x = readtable('Data/breast-tissue.txt');\n",
    "data = x{:,3:11};\n",
    "[~,~,c_g] = unique(x{:,2});\n",
    "data = zscore(data);\n",
    "n_g = 6;"
   ]
  },
  {
   "cell_type": "markdown",
   "metadata": {},
   "source": [
    "### Seeds"
   ]
  },
  {
   "cell_type": "code",
   "execution_count": null,
   "metadata": {
    "collapsed": true
   },
   "outputs": [],
   "source": [
    "x = readtable('Data/seeds_dataset.txt');\n",
    "data = x{:,1:7};\n",
    "c_g = x{:,8};\n",
    "data = zscore(data);\n",
    "n_g = 3;"
   ]
  },
  {
   "cell_type": "markdown",
   "metadata": {},
   "source": [
    "### Segmentation"
   ]
  },
  {
   "cell_type": "code",
   "execution_count": null,
   "metadata": {
    "collapsed": true
   },
   "outputs": [],
   "source": [
    "x = readtable('Data/segmentation.data.txt');\n",
    "x1 = readtable('Data/segmentation.test.txt');\n",
    "x = [x;x1];\n",
    "data = x{:,2:end};\n",
    "[~,~,c_g] = unique(x{:,1});\n",
    "data = zscore(data);\n",
    "n_g = 7;"
   ]
  },
  {
   "cell_type": "markdown",
   "metadata": {},
   "source": [
    "### Yeast"
   ]
  },
  {
   "cell_type": "code",
   "execution_count": null,
   "metadata": {
    "collapsed": true
   },
   "outputs": [],
   "source": [
    "x = readtable('Data/yeast.data.txt','Delimiter',' ','MultipleDelimsAsOne',1);\n",
    "data = x{:,2:9};\n",
    "[~,~,c_g] = unique(x{:,10});\n",
    "data = zscore(data);\n",
    "n_g = 10;"
   ]
  },
  {
   "cell_type": "markdown",
   "metadata": {},
   "source": [
    "### Generated data"
   ]
  },
  {
   "cell_type": "code",
   "execution_count": null,
   "metadata": {
    "collapsed": true
   },
   "outputs": [],
   "source": [
    "%% Synthetic data\n",
    "x = load('Data/synthetic.mat');\n",
    "data = x.x;\n",
    "n_g = 9;"
   ]
  },
  {
   "cell_type": "markdown",
   "metadata": {},
   "source": [
    "# Use Markov Stability to choose the number of clusters\n",
    "The graph and parameter can be changed. The `Time` can be adjusted according to the graph."
   ]
  },
  {
   "cell_type": "code",
   "execution_count": null,
   "metadata": {
    "collapsed": true
   },
   "outputs": [],
   "source": [
    "% Construct the graph\n",
    "D = squareform(pdist(data));\n",
    "k = 7; \n",
    "G = constructNetworkStructure(data', D,'cknn',k); %use cknn graph with k=7\n",
    "A = double(G);\n",
    "Time = 10.^[0:0.1:2]; % Markov time."
   ]
  },
  {
   "cell_type": "code",
   "execution_count": 13,
   "metadata": {
    "collapsed": false
   },
   "outputs": [
    {
     "name": "stdout",
     "output_type": "stream",
     "text": [
      "Postprocessing...\n",
      "Post-processing Markov time: 1.000000\t(1 of 21)\n",
      "Post-processing Markov time: 1.258925\t(2 of 21)\n",
      "Post-processing Markov time: 1.584893\t(3 of 21)\n",
      "Post-processing Markov time: 1.995262\t(4 of 21)\n",
      "Post-processing Markov time: 2.511886\t(5 of 21)\n",
      "Post-processing Markov time: 3.162278\t(6 of 21)\n",
      "Post-processing Markov time: 3.981072\t(7 of 21)\n",
      "Post-processing Markov time: 5.011872\t(8 of 21)\n",
      "Post-processing Markov time: 6.309573\t(9 of 21)\n",
      "Post-processing Markov time: 7.943282\t(10 of 21)\n",
      "Post-processing Markov time: 10.000000\t(11 of 21)\n",
      "Post-processing Markov time: 12.589254\t(12 of 21)\n",
      "Post-processing Markov time: 15.848932\t(13 of 21)\n",
      "Post-processing Markov time: 19.952623\t(14 of 21)\n",
      "Post-processing Markov time: 25.118864\t(15 of 21)\n",
      "Post-processing Markov time: 31.622777\t(16 of 21)\n",
      "Post-processing Markov time: 39.810717\t(17 of 21)\n",
      "Post-processing Markov time: 50.118723\t(18 of 21)\n",
      "Post-processing Markov time: 63.095734\t(19 of 21)\n",
      "Post-processing Markov time: 79.432823\t(20 of 21)\n",
      "Post-processing Markov time: 100.000000\t(21 of 21)\n"
     ]
    },
    {
     "data": {
      "image/png": "[encoded data removed]",
      "text/plain": [
       "<IPython.core.display.Image object>"
      ]
     },
     "metadata": {},
     "output_type": "display_data"
    }
   ],
   "source": [
    "%[Stb, N, VI, C] = stability(A,Time,'full','plot','p'); %run in parrallel\n",
    "[Stb, N, VI, C] = stability(A,Time,'full','plot');"
   ]
  },
  {
   "cell_type": "markdown",
   "metadata": {},
   "source": [
    "Choose a scale from the plot, and set the index to be i."
   ]
  },
  {
   "cell_type": "code",
   "execution_count": 15,
   "metadata": {
    "collapsed": false
   },
   "outputs": [
    {
     "name": "stdout",
     "output_type": "stream",
     "text": [
      "The nmi is: \n",
      "    0.7980\n",
      "\n",
      "The ARI is: \n",
      "    0.7455\n",
      "\n",
      "The Purity is: \n",
      "    0.9000\n",
      "\n"
     ]
    }
   ],
   "source": [
    "i = 16;\n",
    "C_out = C(:,i);\n",
    "disp('The nmi is: '),disp(nmi(C_out,c_g))\n",
    "disp('The ARI is: '),disp(adjrand(C_out,c_g))\n",
    "disp('The Purity is: '),disp(purity(C_out,c_g))"
   ]
  },
  {
   "cell_type": "markdown",
   "metadata": {},
   "source": [
    "# Use the number of clusters in ground truth"
   ]
  },
  {
   "cell_type": "code",
   "execution_count": null,
   "metadata": {
    "collapsed": true
   },
   "outputs": [],
   "source": [
    "k = 7;\n",
    "D = squareform(pdist(data));\n",
    "G = constructNetworkStructure(data', D,'cknn',k);\n",
    "A = double(G);\n",
    "Time = 10.^[0:0.1:2];\n",
    "[Stb, N, VI, C] = stability(A,Time,'full');"
   ]
  },
  {
   "cell_type": "code",
   "execution_count": 16,
   "metadata": {
    "collapsed": false
   },
   "outputs": [
    {
     "name": "stdout",
     "output_type": "stream",
     "text": [
      "Found partitions with N_ground_truth groups\n"
     ]
    }
   ],
   "source": [
    "is = find(N==n_g); % find the partition with n_g clusters\n",
    "if ~isempty(is)\n",
    "    disp('Found partitions with N_ground_truth groups')\n",
    "    C_tmp = C(:,is);\n",
    "    nmi_tmp = is;\n",
    "    ari_tmp = is;\n",
    "    for i = 1:length(is)\n",
    "        nmi_tmp(i) = nmi(C_tmp(:,i),c_g);\n",
    "        ari_tmp(i) = adjrand(C_tmp(:,i),c_g);\n",
    "    end\n",
    "end"
   ]
  },
  {
   "cell_type": "code",
   "execution_count": 17,
   "metadata": {
    "collapsed": false
   },
   "outputs": [
    {
     "name": "stdout",
     "output_type": "stream",
     "text": [
      "The nmi is: \n",
      "    0.7980\n",
      "\n",
      "The ARI is: \n",
      "    0.7455\n",
      "\n",
      "The Purity is: \n",
      "    0.9000\n",
      "\n"
     ]
    }
   ],
   "source": [
    "C_out = C(:,is(1));\n",
    "disp('The nmi is: '),disp(nmi(C_out,c_g))\n",
    "disp('The ARI is: '),disp(adjrand(C_out,c_g))\n",
    "disp('The Purity is: '),disp(purity(C_out,c_g))"
   ]
  },
  {
   "cell_type": "code",
   "execution_count": null,
   "metadata": {
    "collapsed": true
   },
   "outputs": [],
   "source": []
  }
 ],
 "metadata": {
  "anaconda-cloud": {},
  "kernelspec": {
   "display_name": "Matlab",
   "language": "matlab",
   "name": "matlab"
  },
  "language_info": {
   "codemirror_mode": "octave",
   "file_extension": ".m",
   "help_links": [
    {
     "text": "MetaKernel Magics",
     "url": "https://metakernel.readthedocs.io/en/latest/source/README.html"
    }
   ],
   "mimetype": "text/x-octave",
   "name": "matlab",
   "version": "0.16.7"
  }
 },
 "nbformat": 4,
 "nbformat_minor": 2
}
